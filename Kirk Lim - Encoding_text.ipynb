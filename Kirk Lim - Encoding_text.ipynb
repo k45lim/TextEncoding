{
 "cells": [
  {
   "cell_type": "markdown",
   "id": "edcc1fb0-828c-48e1-a0b2-df56441fcfe2",
   "metadata": {},
   "source": [
    "## The objective of this notebook is to load a dataset of tweets between the several companies and their customers and employ different types of text encoding.\n",
    "Attention:\n",
    "1. Due to the massive file size of the data from kaggle - kdata, this program was not able to complete the task due to limited memory of my laptop.  Take not the their is an attached sample file (sample.csv) that is significantly lesser in size which show case how this program has processed successfully the input file."
   ]
  },
  {
   "cell_type": "code",
   "execution_count": 1,
   "id": "b5407685-18da-4b55-adca-a5d3b2f1a94b",
   "metadata": {},
   "outputs": [
    {
     "name": "stderr",
     "output_type": "stream",
     "text": [
      "C:\\Users\\k45li\\AppData\\Local\\Temp\\ipykernel_16968\\891357969.py:1: DeprecationWarning: \n",
      "Pyarrow will become a required dependency of pandas in the next major release of pandas (pandas 3.0),\n",
      "(to allow more performant data types, such as the Arrow string type, and better interoperability with other libraries)\n",
      "but was not found to be installed on your system.\n",
      "If this would cause problems for you,\n",
      "please provide us feedback at https://github.com/pandas-dev/pandas/issues/54466\n",
      "        \n",
      "  import pandas as pd\n"
     ]
    }
   ],
   "source": [
    "import pandas as pd\n",
    "import EncodingHelper as hlpr"
   ]
  },
  {
   "cell_type": "code",
   "execution_count": 2,
   "id": "57facd62-8a56-4dee-b4a7-9b18a58de860",
   "metadata": {},
   "outputs": [
    {
     "name": "stdout",
     "output_type": "stream",
     "text": [
      "Start of the run ... 2024-02-08 12:03:40\n"
     ]
    }
   ],
   "source": [
    "start_time = hlpr.show_time()\n",
    "print(\"Start of the run ...\",start_time)"
   ]
  },
  {
   "cell_type": "code",
   "execution_count": 3,
   "id": "33fb3fb6-4ffa-49f8-bf6c-1056709f7dd7",
   "metadata": {},
   "outputs": [],
   "source": [
    "#df = pd.read_csv('kdata.csv')\n",
    "df = pd.read_csv('sample.csv')\n",
    "#df = pd.DataFrame({\"text\":[\"people watch ineuron\",\"ineuron watch ineuron\",\"people write comment\",\"ineuron write comment\"],\"output\":[1,1,0,0]})"
   ]
  },
  {
   "cell_type": "code",
   "execution_count": 4,
   "id": "f3d5d5b2-4cda-4234-888f-c15501af5938",
   "metadata": {},
   "outputs": [
    {
     "data": {
      "text/plain": [
       "0     @AppleSupport causing the reply to be disregar...\n",
       "1     @105835 Your business means a lot to us. Pleas...\n",
       "2     @76328 I really hope you all change but I'm su...\n",
       "3     @105836 LiveChat is online at the moment - htt...\n",
       "4     @VirginTrains see attached error message. I've...\n",
       "                            ...                        \n",
       "88    @105860 I wish Amazon had an option of where I...\n",
       "89    They reschedule my shit for tomorrow https://t...\n",
       "90    @105861 Hey Sara, sorry to hear of the issues ...\n",
       "91    @Tesco bit of both - finding the layout cumber...\n",
       "92    @105861 If that doesn't help please DM your fu...\n",
       "Name: text, Length: 93, dtype: object"
      ]
     },
     "execution_count": 4,
     "metadata": {},
     "output_type": "execute_result"
    }
   ],
   "source": [
    "df[\"text\"]"
   ]
  },
  {
   "cell_type": "code",
   "execution_count": 5,
   "id": "7f53eacb-dd5e-4b8e-9c0a-6cefc3059332",
   "metadata": {},
   "outputs": [
    {
     "name": "stdout",
     "output_type": "stream",
     "text": [
      "<class 'pandas.core.frame.DataFrame'>\n",
      "RangeIndex: 93 entries, 0 to 92\n",
      "Data columns (total 7 columns):\n",
      " #   Column                   Non-Null Count  Dtype  \n",
      "---  ------                   --------------  -----  \n",
      " 0   tweet_id                 93 non-null     int64  \n",
      " 1   author_id                93 non-null     object \n",
      " 2   inbound                  93 non-null     bool   \n",
      " 3   created_at               93 non-null     object \n",
      " 4   text                     93 non-null     object \n",
      " 5   response_tweet_id        65 non-null     object \n",
      " 6   in_response_to_tweet_id  68 non-null     float64\n",
      "dtypes: bool(1), float64(1), int64(1), object(4)\n",
      "memory usage: 4.6+ KB\n"
     ]
    }
   ],
   "source": [
    "df.info()"
   ]
  },
  {
   "cell_type": "code",
   "execution_count": 6,
   "id": "df69f338-d2c3-4c8c-abac-31c7968ebbde",
   "metadata": {},
   "outputs": [
    {
     "name": "stdout",
     "output_type": "stream",
     "text": [
      "===== USING ONE HOT ENCODING ====\n",
      "List of vocabularies:\n",
      " Index(['031', '03331', '03am', '0m2mph15eh', '10', '105676', '105835',\n",
      "       '105836', '105837', '105838',\n",
      "       ...\n",
      "       'won', 'work', 'working', 'wtf', 'wypw9hp6wt', 'xfinity', 'yard', 'yep',\n",
      "       'zip', 'znuu1vjn9r'],\n",
      "      dtype='object', length=551)\n",
      "\n",
      "\n",
      "List of encodings\n",
      "     031  03331  03am  0m2mph15eh  10  105676  105835  105836  105837  105838  \\\n",
      "0     0      0     0           0   0       0       0       0       0       0   \n",
      "1     0      0     0           0   0       0       1       0       0       0   \n",
      "2     0      0     0           0   0       0       0       0       0       0   \n",
      "3     1      1     0           0   0       0       0       1       0       0   \n",
      "4     0      0     0           0   0       0       0       0       0       0   \n",
      "..  ...    ...   ...         ...  ..     ...     ...     ...     ...     ...   \n",
      "88    0      0     0           0   0       0       0       0       0       0   \n",
      "89    0      0     0           0   0       0       0       0       0       0   \n",
      "90    0      0     0           0   0       0       0       0       0       0   \n",
      "91    0      0     0           0   0       0       0       0       0       0   \n",
      "92    0      0     0           0   0       0       0       0       0       0   \n",
      "\n",
      "    ...  won  work  working  wtf  wypw9hp6wt  xfinity  yard  yep  zip  \\\n",
      "0   ...    0     0        0    0           0        0     0    0    0   \n",
      "1   ...    0     0        0    0           0        0     0    0    1   \n",
      "2   ...    1     0        0    0           0        0     0    0    0   \n",
      "3   ...    0     0        0    0           0        0     0    0    0   \n",
      "4   ...    0     0        0    0           0        0     0    0    0   \n",
      "..  ...  ...   ...      ...  ...         ...      ...   ...  ...  ...   \n",
      "88  ...    0     0        0    0           0        0     0    0    0   \n",
      "89  ...    0     0        0    0           0        0     0    0    0   \n",
      "90  ...    0     0        0    0           0        0     0    0    0   \n",
      "91  ...    0     0        0    0           0        0     0    0    0   \n",
      "92  ...    0     0        0    0           0        0     0    0    0   \n",
      "\n",
      "    znuu1vjn9r  \n",
      "0            0  \n",
      "1            1  \n",
      "2            0  \n",
      "3            0  \n",
      "4            0  \n",
      "..         ...  \n",
      "88           0  \n",
      "89           0  \n",
      "90           0  \n",
      "91           0  \n",
      "92           0  \n",
      "\n",
      "[93 rows x 551 columns]\n"
     ]
    }
   ],
   "source": [
    "result=hlpr.encode2_ohe(df['text'])\n",
    "print('===== USING ONE HOT ENCODING ====')\n",
    "print('List of vocabularies:\\n',result.columns)\n",
    "print('\\n\\nList of encodings\\n',result)"
   ]
  },
  {
   "cell_type": "code",
   "execution_count": 7,
   "id": "bbd38243-67ef-496e-9e3f-3f7b86606bd8",
   "metadata": {},
   "outputs": [
    {
     "name": "stdout",
     "output_type": "stream",
     "text": [
      "===== USING BAG OF WORDS ENCODING ====\n",
      "List of vocabularies:\n",
      " {'applesupport': 103, 'causing': 161, 'the': 594, 'reply': 495, 'to': 608, 'be': 123, 'disregarded': 215, 'and': 94, 'tapped': 582, 'notification': 420, 'under': 622, 'keyboard': 347, 'is': 332, 'opened': 437, '105835': 6, 'your': 674, 'business': 145, 'means': 389, 'lot': 379, 'us': 632, 'please': 461, 'dm': 217, 'name': 412, 'zip': 675, 'code': 174, 'additional': 70, 'details': 207, 'about': 66, 'concern': 181, 'rr': 502, 'https': 314, 'co': 172, 'znuu1vjn9r': 676, '76328': 54, 'really': 483, 'hope': 305, 'you': 673, 'all': 84, 'change': 163, 'but': 146, 'sure': 571, 'won': 665, 'because': 125, 'don': 221, 'have': 290, '105836': 7, 'livechat': 369, 'online': 435, 'at': 114, 'moment': 403, 'sy94vtu8kq': 574, 'or': 441, 'contact': 184, '03331': 1, '031': 0, 'option': 440, 'leave': 359, 'message': 390, 'request': 496, 'call': 152, 'back': 120, 'virgintrains': 640, 'see': 511, 'attached': 115, 'error': 233, 've': 636, 'tried': 615, 'leaving': 360, 'voicemail': 642, 'several': 520, 'times': 607, 'in': 320, 'past': 454, 'week': 648, 'nxvzjlyx1k': 424, 'from': 258, 'another': 97, 'device': 208, 'miriam': 398, 'mm': 400, 'yep': 672, 'laptop': 352, 'too': 612, 'over': 445, 'again': 76, 'today': 609, 'different': 211, 'browsers': 142, 'it': 335, 'working': 667, 'ok': 429, 'here': 299, 'does': 219, 'this': 603, 'link': 366, 'help': 296, '0m2mph15eh': 3, 'still': 561, 'haven': 291, 'heard': 294, 'amp': 92, 'number': 423, 'directed': 212, 'by': 148, 'phone': 458, 'dead': 198, 'end': 229, 'live': 368, 'chat': 165, 'doesn': 220, 'work': 666, 'can': 156, 'someone': 542, 'me': 388, 'that': 593, 'what': 651, 'we': 646, 're': 480, 'for': 253, 'team': 583, 'should': 526, 'send': 513, 'an': 93, 'email': 228, 'shortly': 525, 'hp': 310, '105837': 8, 'which': 656, 'version': 637, 'of': 426, 'ios': 327, 'are': 106, 'on': 432, 'find': 244, 'settings': 519, 'gt': 280, 'general': 268, 'gdrqu22ypt': 267, '105838': 9, 'am': 89, 'suffering': 569, 'solution': 539, 'hi': 301, 'apple': 102, 'latest': 354, 'slow': 535, 'iphone6': 331, 'not': 418, 'happy': 286, 'with': 661, 'any': 99, '105839': 10, 'thanks': 592, 'reaching': 481, 'out': 444, 'always': 88, 'so': 538, 'look': 376, 'into': 326, 'together': 610, 'just': 344, 'updated': 629, 'my': 411, 'suddenly': 568, 'everything': 236, 'takes': 580, 'ages': 78, 'load': 371, 'wtf': 668, '76099': 53, 'update': 628, 'sux': 572, 'hate': 289, 'fix': 249, 'bye': 149, '105840': 11, 'there': 597, 'happening': 284, 'if': 317, 'could': 187, 'also': 87, 'let': 362, 'know': 351, 'android': 95, 'spotify': 553, 'versions': 638, 'using': 635, 'great': 277, 'ay': 118, 'spotifycares': 554, '22': 41, '857': 61, 'armv7': 107, 'anker': 96, 'bluetooth': 134, 'speaker': 549, 'samsung': 509, 'galaxy': 265, 'tab': 577, '2016': 39, 'model': 402, 'sm': 537, 't280': 576, 'distance': 216, 'matter': 386, 'possibly': 468, 'affect': 74, 'playback': 459, 'logging': 374, 'restarting': 501, 'make': 382, 'difference': 210, 'no': 417, 'moved': 407, 'metre': 392, 'away': 117, 'skipping': 532, 'mo': 401, 'was': 645, 'metres': 393, 'before': 127, 'fingers': 246, 'crossed': 190, 'hear': 293, 'anything': 100, 'comes': 178, 'up': 627, 'll': 370, 'carry': 158, 'helping': 297, 'brilliant': 137, 'welcome': 650, 'else': 227, 'give': 271, 'shout': 527, 'cp': 188, '76495': 55, '91226': 62, 'premium': 470, 'through': 605, 'songs': 543, 'constantly': 183, 'tablet': 578, '105841': 12, 'love': 380, 'steps': 560, 'since': 530, 'experiencing': 239, 'these': 598, 'behaviors': 129, 'after': 75, '11': 33, 'sucks': 567, 'most': 406, 'apps': 105, 'broken': 140, 'wifi': 658, 'disconnects': 213, 'frequently': 257, 'ios1102': 328, 'painfulupdate': 449, '105842': 13, 'sorry': 545, 'flight': 251, 'has': 288, 'been': 126, 'delayed': 200, 'beatner': 124, 'travelling': 614, 'ba8733': 119, 'departure': 206, 'time': 606, '15': 35, '30': 44, 'first': 247, 'long': 375, 'british_airways': 138, 'now': 421, 'one': 434, '1h': 37, 'delay': 199, 'short': 524, 'jump': 343, 'fra': 254, 'lcy': 358, 'provide': 478, 'status': 559, 'updates': 630, '105843': 14, 'battery': 122, 'life': 363, 'important': 319, 'iphone': 330, 'running': 504, 'go': 274, 'okay': 430, 'used': 634, 'fucking': 261, 'minutes': 397, 'drains': 224, 'down': 223, 'percent': 456, '105844': 15, 'get': 269, '7plus': 59, 'old': 431, 'runs': 505, 'half': 283, 'crash': 189, 'start': 557, 'paralysed': 450, 'grrrrrrrrrr': 279, '82476': 60, 'like': 364, 'sam': 507, 'calling': 154, 'more': 405, 'info': 323, 'advise': 73, 'further': 263, '5pyldjbc6r': 49, 'o2': 425, 'received': 487, 'few': 243, 'weeks': 649, 'ago': 79, 'then': 596, 'getting': 270, 'calls': 155, 'day': 196, 'telemarketer': 584, 'gltz4xhcex': 273, '105845': 16, 'understand': 624, 'frustrating': 260, 'experience': 238, 'account': 68, 'information': 324, 'ad': 69, 'internet': 325, 'xfinity': 670, 'talkin': 581, '24': 42, '72': 52, 'hours': 308, 'game': 266, 'messed': 391, '77245': 58, '105676': 5, 'how': 309, 'frustrated': 259, 'situation': 531, 'follow': 252, 'sending': 514, 'assistance': 113, 'sprint': 555, 'cares': 157, 'ac': 67, '76803': 57, 'service': 518, 'last': 353, '40': 47, 'min': 396, 'refund': 489, 'wypw9hp6wt': 669, '105846': 17, 'happens': 285, 'when': 654, 'try': 616, 'listen': 367, 'music': 410, 'use': 633, 'whatsapp': 652, 'pause': 455, 'new': 415, 'same': 508, '105847': 18, 'harry': 287, 'check': 166, 'makes': 383, 'keep': 346, 'posted': 469, 'mu': 409, 'seems': 512, 'stage': 556, 'will': 659, 'cheers': 167, 'thing': 601, 'eye': 240, 'problem': 474, 'come': 177, 'some': 541, 'kind': 350, 'bug': 144, 'giving': 272, 'nudge': 422, 'operating': 439, 'system': 575, 'macbook': 381, 'air': 81, 'early': 226, '2014': 38, 'high': 302, 'sierra': 528, '65': 51, '320': 45, 'gac7a8e02': 264, 'got': 276, 'eqisdmwzat': 232, 'they': 599, 'plays': 460, 'having': 292, 'issues': 334, 'stopping': 563, 'midway': 394, 'restart': 500, 'unless': 625, 'close': 171, 'reopen': 494, 'app': 101, '105848': 19, 'take': 579, 'exact': 237, 'specific': 551, 'noticing': 419, 'read': 482, 'page': 447, 'turned': 617, 'off': 427, 'virtually': 641, 'location': 372, 'svs': 573, 'typing': 620, 'dropped': 225, 'super': 570, 'solved': 540, 'once': 433, 'ios11update': 329, 'killing': 348, 'within': 662, '12': 34, '10': 4, 'months': 404, 'disgrace': 214, 'days': 197, '105849': 20, 'took': 613, 'charge': 164, '20am': 40, '03am': 2, '60': 50, 'remaining': 492, 'plz': 463, 'beg': 128, 'sort': 546, '105850': 21, 'points': 465, 'hit': 304, 'immediately': 318, 'even': 234, 'receive': 486, 'congrats': 182, 'almost': 86, 'southwestair': 548, 'thank': 591, 'answer': 98, 'curious': 192, 'companion': 180, 'pass': 453, 'enough': 231, 'wait': 643, '105851': 22, 'tell': 585, 'issue': 333, 'need': 413, 'store': 564, 'recd': 485, 'msg': 408, 'many': 385, 'sent': 516, '105852': 23, 'going': 275, 'horrible': 307, 'appreciate': 104, 'hopefully': 306, 'depart': 205, 'very': 639, 'soon': 544, 'inconvenience': 322, 'caused': 160, 'jr': 341, 'response': 499, 'onsite': 436, 'aircraft': 82, 'rebooking': 484, '105853': 24, '4h': 48, 'sorted': 547, 'regards': 490, 'jools': 340, '105854': 25, 'poor': 467, 'full': 262, 'address': 71, 'as': 109, 'ass': 112, 'jezhqgdbmd': 337, 'ask_spectrum': 111, 'yard': 671, 'called': 153, 'customer': 194, 'pretty': 471, 'tempting': 587, 'do': 218, 'coaxial': 173, '76501': 56, 'guess': 281, 'free': 255, 'cable': 150, 'neighborhood': 414, 'fbgee9yxpm': 242, '105855': 26, 'thomas': 604, 'colleague': 175, 'believes': 131, 'person': 457, 'buying': 147, 'alcohol': 83, 'looks': 377, '25': 43, 'challenged': 162, 'id': 316, 'prove': 477, 'age': 77, 'paige': 448, 'tesco': 588, 'maybe': 387, 'hire': 303, 'colleagues': 176, 'who': 657, 'point': 464, 'enforced': 230, 'properly': 475, 'plus': 462, 'common': 179, 'sense': 515, 'think': 602, '18': 36, 'correct': 186, 'helps': 298, 'our': 443, 'judge': 342, 'protect': 476, 'them': 595, 'making': 384, 'underage': 623, 'sales': 506, 'amanda': 90, 'uk': 621, 'offlicense': 428, 'law': 355, 'operate': 438, 'policy': 466, 'stores': 565, 'flattered': 250, 'helena': 295, 'adnams': 72, 'broadside': 139, 'being': 130, 'blind': 133, 'part': 451, 'job': 338, 'spec': 550, '35': 46, '99': 64, 'kilos': 349, '105856': 27, 'deleting': 202, 'cache': 151, 'cookies': 185, 'reinstalling': 491, 'dani': 195, 'lose': 378, 'shopping': 523, 'done': 222, 'delete': 201, 'sign': 529, 'prior': 473, 'basket': 121, 'mike': 395, 'telling': 586, 'delivery': 204, 'slots': 534, 'whatsoever': 653, 'hey': 300, 'website': 647, 'next': 416, 'slightly': 533, 'unlikely': 626, '105857': 28, 'particular': 452, 'cause': 159, 'than': 590, 'others': 442, 'join': 339, 'started': 558, 'did': 209, 'currently': 193, 'stop': 562, 'without': 663, 'warning': 644, 'freezes': 256, 'every': 235, 'five': 248, '105858': 29, 'agoura': 80, 'tweeting': 618, 'refer': 488, 'article': 108, 'bssgjzartc': 143, 'click': 170, 'rashmi': 479, 'a2xkfcrug1': 65, 'hpsupport': 313, 'printhead': 472, 'serial': 517, 'th536d1hn': 589, 'hpcswus': 311, 'hpprnt': 312, '105859': 30, 'ups': 631, 'choice': 168, 'allow': 85, 'packages': 446, 'delivered': 203, 'ml': 399, 'bpzkndqww1': 136, 'wkjhdxwgrq': 664, '105860': 31, 'wish': 660, 'amazon': 91, 'had': 282, 'where': 655, 'shipped': 521, 'avoid': 116, 'struggle': 566, 'reschedule': 497, 'shit': 522, 'tomorrow': 611, 'rsvzct982t': 503, '105861': 32, 'sara': 510, 'ask': 110, 'lay': 356, 'speed': 552, 'responding': 498, 'ty': 619, 'chris': 169, 'bit': 132, 'both': 135, 'finding': 245, 'layout': 357, 'cumbersome': 191, 'removing': 493, 'item': 336, 'faves': 241, 'huge': 315, 'slowdown': 536, 'keen': 345, 'thin': 600, 'green': 278, 'line': 365, '9281okeebk': 63, 'including': 321, 'browser': 141, 'log': 373, 'lee': 361}\n",
      "\n",
      "\n",
      "List of BOW encodings\n",
      " [[0 0 0 ... 0 0 0]\n",
      " [0 0 0 ... 3 1 1]\n",
      " [0 0 0 ... 0 0 0]\n",
      " ...\n",
      " [0 0 0 ... 0 0 0]\n",
      " [0 0 0 ... 0 0 0]\n",
      " [0 0 0 ... 1 0 0]]\n"
     ]
    }
   ],
   "source": [
    "result=hlpr.encode2_bow(df['text'])\n",
    "print('===== USING BAG OF WORDS ENCODING ====')\n",
    "print('List of vocabularies:\\n',result[0])\n",
    "print('\\n\\nList of BOW encodings\\n',result[1])"
   ]
  },
  {
   "cell_type": "code",
   "execution_count": 8,
   "id": "2992acd4-1128-4e6f-b926-0e12c602a541",
   "metadata": {},
   "outputs": [
    {
     "name": "stdout",
     "output_type": "stream",
     "text": [
      "===== USING BIGRAMS ENCODING ====\n",
      "List of vocabularies:\n",
      " {'applesupport causing': 183, 'causing the': 305, 'the reply': 1169, 'reply to': 965, 'to be': 1241, 'be disregarded': 233, 'disregarded and': 381, 'and the': 157, 'the tapped': 1176, 'tapped notification': 1097, 'notification under': 830, 'under the': 1288, 'the keyboard': 1150, 'keyboard is': 700, 'is opened': 644, '105835 your': 7, 'your business': 1458, 'business means': 265, 'means lot': 769, 'lot to': 753, 'to us': 1259, 'us please': 1312, 'please dm': 915, 'dm your': 393, 'your name': 1465, 'name zip': 811, 'zip code': 1470, 'code and': 331, 'and additional': 139, 'additional details': 94, 'details about': 367, 'about your': 90, 'your concern': 1460, 'concern rr': 341, 'rr https': 972, 'https co': 585, 'co znuu1vjn9r': 330, '76328 really': 75, 'really hope': 950, 'hope you': 576, 'you all': 1424, 'all change': 114, 'change but': 307, 'but sure': 269, 'sure you': 1085, 'you won': 1454, 'won because': 1413, 'because you': 241, 'you don': 1433, 'don have': 404, 'have to': 536, '105836 livechat': 10, 'livechat is': 732, 'is online': 643, 'online at': 871, 'at the': 215, 'the moment': 1157, 'moment https': 787, 'co sy94vtu8kq': 327, 'sy94vtu8kq or': 1088, 'or contact': 877, 'contact 03331': 344, '03331 031': 2, '031 031': 0, '031 option': 1, 'option leave': 875, 'leave message': 718, 'message to': 770, 'to request': 1255, 'request call': 966, 'call back': 280, 'virgintrains see': 1346, 'see attached': 982, 'attached error': 217, 'error message': 422, 'message ve': 771, 've tried': 1335, 'tried leaving': 1277, 'leaving voicemail': 719, 'voicemail several': 1350, 'several times': 996, 'times in': 1236, 'in the': 611, 'the past': 1164, 'past week': 900, 'week https': 1369, 'co nxvzjlyx1k': 325, '105836 have': 8, 'have you': 537, 'you tried': 1449, 'tried from': 1275, 'from another': 472, 'another device': 167, 'device miriam': 371, 'miriam mm': 780, 'virgintrains yep': 1348, 'yep ve': 1422, 'tried laptop': 1276, 'laptop too': 710, 'too several': 1269, 'times over': 1237, 'over the': 893, 'week and': 1368, 'and again': 140, 'again today': 104, 'today ve': 1263, 'tried different': 1273, 'different browsers': 377, 'browsers too': 263, '105836 it': 9, 'it working': 683, 'working ok': 1417, 'ok from': 850, 'from here': 474, 'here miriam': 563, 'miriam does': 779, 'does this': 401, 'this link': 1215, 'link help': 728, 'help https': 548, 'co 0m2mph15eh': 314, '0m2mph15eh mm': 4, 'virgintrains still': 1347, 'still haven': 1070, 'haven heard': 538, 'heard amp': 545, 'amp the': 131, 'the number': 1162, 'number directed': 836, 'directed to': 378, 'to by': 1242, 'by phone': 274, 'phone is': 907, 'is dead': 638, 'dead end': 356, 'end amp': 418, 'the live': 1155, 'live chat': 731, 'chat doesn': 309, 'doesn work': 403, 'work can': 1415, 'can someone': 297, 'someone call': 1031, 'call me': 281, '105836 that': 11, 'that what': 1127, 'what we': 1379, 'we re': 1365, 're here': 943, 'here for': 562, 'for miriam': 458, 'miriam the': 781, 'the team': 1177, 'team should': 1098, 'should send': 1004, 'send you': 987, 'you an': 1426, 'an email': 133, 'email shortly': 417, 'shortly hp': 1001, '105837 we': 12, 'we can': 1358, 'can help': 292, 'help which': 557, 'which version': 1389, 'version of': 1341, 'of ios': 843, 'ios are': 620, 'are you': 202, 'you on': 1441, 'on you': 865, 'you can': 1428, 'can find': 290, 'find that': 439, 'that in': 1123, 'in settings': 610, 'settings gt': 995, 'gt general': 512, 'general gt': 491, 'gt about': 511, 'about reply': 87, 'reply in': 964, 'in dm': 604, 'dm https': 386, 'co gdrqu22ypt': 322, '105838 applesupport': 13, 'applesupport me': 189, 'me too': 766, 'too am': 1266, 'am suffering': 125, 'suffering hope': 1082, 'hope the': 575, 'the can': 1138, 'find solution': 438, 'applesupport hi': 186, 'hi apple': 568, 'apple ve': 180, 've concern': 1331, 'concern about': 340, 'about the': 88, 'the latest': 1151, 'latest ios': 712, 'ios is': 621, 'is too': 651, 'too slow': 1270, 'slow on': 1016, 'on iphone6': 859, 'iphone6 and': 631, 'and am': 141, 'am not': 123, 'not happy': 824, 'happy with': 523, 'with it': 1403, 'it any': 659, 'any solution': 171, 'solution please': 1025, '105839 thanks': 14, 'thanks for': 1114, 'for reaching': 460, 'reaching out': 948, 'out to': 890, 'us we': 1316, 'we are': 1355, 'are always': 198, 'always happy': 121, 'happy to': 522, 'to help': 1247, 'help send': 554, 'send us': 986, 'us dm': 1306, 'dm so': 388, 'so we': 1024, 'can look': 295, 'look into': 747, 'into this': 619, 'this together': 1224, 'together https': 1264, 'just updated': 696, 'updated my': 1301, 'my phone': 804, 'phone and': 904, 'and suddenly': 156, 'suddenly everything': 1081, 'everything takes': 426, 'takes ages': 1095, 'ages to': 107, 'to load': 1249, 'load wtf': 740, 'wtf 76099': 1419, '76099 this': 72, 'this update': 1225, 'update sux': 1299, 'sux hate': 1086, 'hate it': 529, 'it fix': 666, 'fix it': 444, 'it bye': 660, '105840 hi': 15, 'hi there': 570, 'there what': 1193, 'what device': 1374, 'device is': 370, 'is this': 650, 'this happening': 1211, 'happening on': 518, 'on if': 858, 'if you': 600, 'you could': 1430, 'could also': 349, 'also let': 120, 'let us': 722, 'us know': 1309, 'know the': 708, 'the android': 1131, 'android and': 164, 'and spotify': 155, 'spotify versions': 1052, 'versions you': 1343, 'you re': 1443, 're using': 946, 'using that': 1327, 'that be': 1120, 'be great': 235, 'great ay': 508, 'spotifycares thanks': 1058, 'thanks version': 1118, 'version 22': 1336, '22 857': 57, '857 armv7': 81, 'armv7 on': 203, 'on anker': 855, 'anker bluetooth': 166, 'bluetooth speaker': 253, 'speaker on': 1044, 'on samsung': 861, 'samsung galaxy': 980, 'galaxy tab': 489, 'tab 2016': 1091, '2016 model': 55, 'model sm': 785, 'sm t280': 1018, 't280 does': 1090, 'does distance': 396, 'distance from': 383, 'from speaker': 476, 'speaker matter': 1043, '105840 thanks': 16, 'thanks the': 1117, 'the distance': 1141, 'distance could': 382, 'could possibly': 350, 'possibly affect': 927, 'affect playback': 98, 'playback does': 911, 'does logging': 397, 'logging out': 744, 'out gt': 886, 'gt restarting': 514, 'restarting your': 971, 'your device': 1461, 'device gt': 368, 'gt logging': 513, 'logging back': 743, 'back in': 223, 'in make': 607, 'make difference': 758, 'difference ay': 375, 'spotifycares no': 1055, 'no but': 818, 'but ve': 271, 've moved': 1333, 'moved speaker': 793, 'speaker to': 1045, 'to about': 1239, 'about metre': 85, 'metre away': 773, 'away and': 219, 'and it': 146, 'it not': 671, 'not skipping': 827, 'skipping at': 1011, 'the mo': 1156, 'mo it': 783, 'it was': 681, 'was about': 1353, 'about or': 86, 'or metres': 879, 'metres away': 774, 'away before': 220, 'before fingers': 246, 'fingers crossed': 441, '105840 that': 17, 'that great': 1122, 'great to': 509, 'to hear': 1246, 'hear if': 542, 'if anything': 590, 'anything comes': 174, 'comes up': 337, 'up just': 1294, 'just let': 693, 'know we': 709, 'we ll': 1362, 'll carry': 733, 'carry on': 302, 'on helping': 857, 'helping out': 559, 'out ay': 884, 'spotifycares brilliant': 1053, 'brilliant thanks': 256, '105840 you': 18, 're welcome': 947, 'welcome if': 1373, 'if there': 597, 'there anything': 1186, 'anything else': 175, 'else we': 413, 'help with': 558, 'with just': 1404, 'just give': 691, 'give us': 501, 'us shout': 1314, 'shout we': 1005, 'for you': 465, 'you cp': 1431, '76495 91226': 76, '91226 please': 82, 'please help': 917, 'help spotify': 555, 'spotify premium': 1050, 'premium skipping': 929, 'skipping through': 1012, 'through songs': 1232, 'songs constantly': 1033, 'constantly on': 343, 'on android': 854, 'android tablet': 165, 'tablet amp': 1092, 'amp bluetooth': 128, 'speaker tried': 1046, 'tried everything': 1274, '105841 we': 19, 'we love': 1363, 'love to': 755, 'help please': 551, 'dm us': 390, 'us and': 1304, 'and let': 147, 'know any': 704, 'any steps': 173, 'steps you': 1068, 'you ve': 1452, 'tried since': 1278, 'since experiencing': 1008, 'experiencing these': 433, 'these behaviors': 1194, 'behaviors https': 248, 'applesupport after': 181, 'after the': 100, 'the 11': 1129, '11 my': 49, 'phone just': 908, 'just sucks': 694, 'sucks most': 1080, 'most of': 792, 'of the': 844, 'the apps': 1134, 'apps are': 194, 'are broken': 199, 'broken wifi': 261, 'wifi disconnects': 1391, 'disconnects frequently': 379, 'frequently apple': 470, 'apple ios1102': 178, 'ios1102 painfulupdate': 626, '105842 we': 22, 're sorry': 945, 'sorry your': 1038, 'your flight': 1462, 'flight has': 449, 'has been': 525, 'been delayed': 242, 'delayed beatner': 359, 'beatner are': 240, 'you travelling': 1448, 'travelling on': 1272, 'on the': 862, 'the ba8733': 1135, 'ba8733 if': 221, 'if so': 595, 'so the': 1023, 'the updated': 1180, 'updated departure': 1300, 'departure time': 366, 'time we': 1234, 'we have': 1359, 'have is': 532, 'is 15': 633, '15 30': 51, 'first flight': 442, 'flight for': 448, 'for long': 456, 'long time': 746, 'time with': 1235, 'with british_airways': 1402, 'british_airways now': 257, 'now over': 833, 'over one': 892, 'one 1h': 868, '1h delay': 53, 'delay for': 357, 'for the': 461, 'the short': 1172, 'short jump': 1000, 'jump fra': 688, 'fra lcy': 467, 'lcy and': 717, 'and no': 151, 'no one': 820, 'one here': 870, 'here to': 564, 'to provide': 1253, 'provide status': 940, 'status updates': 1066, '105843 battery': 23, 'battery life': 227, 'life is': 724, 'is important': 642, 'important and': 603, 'and we': 159, 'you dm': 1432, 'us the': 1315, 'the ios': 1146, 'ios version': 624, 'version your': 1342, 'your iphone': 1464, 'iphone is': 630, 'is running': 645, 'running we': 975, 'll go': 735, 'go from': 503, 'from there': 478, 'there https': 1190, 'okay 76099': 851, '76099 used': 74, 'used my': 1320, 'my fucking': 801, 'fucking phone': 482, 'phone for': 905, 'for minutes': 457, 'minutes and': 777, 'it drains': 664, 'drains it': 410, 'it down': 663, 'down fucking': 409, 'fucking percent': 481, '105844 thanks': 24, 'applesupport can': 182, 'can you': 300, 'you get': 1437, 'get my': 496, 'my iphone': 803, 'iphone 7plus': 628, '7plus back': 79, 'back on': 224, 'the old': 1163, 'old ios': 852, 'ios please': 623, 'please battery': 914, 'battery runs': 229, 'runs out': 976, 'out in': 887, 'in half': 605, 'half the': 517, 'the time': 1179, 'time apps': 1233, 'apps now': 195, 'now frequently': 832, 'frequently crash': 471, '105844 we': 25, 'we be': 1357, 'be happy': 236, 'dm and': 384, 'can start': 298, 'start there': 1064, 've paralysed': 1334, 'paralysed my': 896, 'phone with': 910, 'with your': 1410, 'your update': 1468, 'update 76099': 1295, '76099 grrrrrrrrrr': 70, '82476 we': 80, 'we like': 1361, 'like to': 726, 'help sam': 553, 'sam which': 978, 'which number': 1388, 'number is': 837, 'is calling': 636, 'calling you': 284, 'you please': 1442, 'us more': 1310, 'more info': 790, 'info so': 616, 'can advise': 286, 'advise further': 97, 'further https': 488, 'co 5pyldjbc6r': 315, 'o2 received': 839, 'received this': 954, 'this few': 1209, 'few weeks': 436, 'weeks ago': 1370, 'ago since': 108, 'since then': 1009, 'then ve': 1184, 've been': 1329, 'been getting': 243, 'getting calls': 499, 'calls day': 285, 'day from': 355, 'from telemarketer': 477, 'telemarketer is': 1099, 'is someone': 646, 'someone using': 1032, 'using your': 1328, 'name https': 809, 'co gltz4xhcex': 323, '105845 understand': 26, 'understand this': 1291, 'this is': 1213, 'is frustrating': 640, 'frustrating experience': 480, 'experience please': 430, 'please send': 919, 'send dm': 985, 'dm with': 392, 'your account': 1455, 'account information': 92, 'information so': 617, 'so can': 1019, 'this matter': 1216, 'matter for': 762, 'you ad': 1423, 'my internet': 802, 'internet is': 618, 'is down': 639, 'down and': 408, 'and xfinity': 162, 'xfinity talkin': 1420, 'talkin about': 1096, 'about 24': 84, '24 72': 58, '72 hours': 68, 'hours all': 578, 'all have': 115, 'have the': 535, 'the game': 1144, 'game messed': 490, 'messed up': 772, 'up 77245': 1293, '105676 understand': 6, 'understand how': 1290, 'how you': 582, 'you frustrated': 1436, 'frustrated this': 479, 'this situation': 1219, 'situation can': 1010, 'can be': 289, 'be please': 238, 'please follow': 916, 'follow us': 450, 'us by': 1305, 'by sending': 275, 'sending dm': 988, 'dm for': 385, 'for further': 453, 'further assistance': 486, 'assistance sprint': 211, 'sprint cares': 1061, 'cares ac': 301, '76803 service': 78, 'service last': 994, 'last 40': 711, '40 min': 64, 'min sprint': 776, 'sprint can': 1060, 'can get': 291, 'get refund': 497, 'refund https': 956, 'co wypw9hp6wt': 329, '105846 we': 27, 'help what': 556, 'what happens': 1376, 'happens when': 521, 'when you': 1385, 'you try': 1450, 'try to': 1281, 'to listen': 1248, 'listen to': 730, 'to apple': 1240, 'apple music': 179, 'music amp': 795, 'amp use': 132, 'use whatsapp': 1319, 'whatsapp does': 1381, 'does the': 400, 'the music': 1158, 'music pause': 797, 'pause let': 901, 'know in': 707, 'the new': 1160, 'new 76099': 814, '76099 update': 73, 'update does': 1296, 'does not': 398, 'not let': 826, 'let me': 720, 'me listen': 764, 'to music': 1251, 'music and': 796, 'and go': 145, 'go on': 504, 'on whatsapp': 864, 'whatsapp at': 1380, 'the same': 1170, 'same time': 979, '105847 hi': 29, 'hi harry': 569, 'harry help': 524, 'help here': 547, 'here can': 561, 'you check': 1429, 'check if': 310, 'if logging': 594, 'in makes': 608, 'makes difference': 759, 'difference keep': 376, 'keep us': 699, 'us posted': 1313, 'posted mu': 928, 'spotifycares seems': 1057, 'seems to': 984, 'be working': 239, 'working at': 1416, 'at this': 216, 'this stage': 1220, 'stage will': 1062, 'will let': 1397, 'let you': 723, 'you know': 1439, 'know if': 706, 'if it': 593, 'it happens': 667, 'happens again': 520, 'again cheers': 102, '105847 sure': 30, 'sure thing': 1084, 'thing we': 1203, 'll keep': 736, 'keep an': 698, 'an eye': 134, 'eye out': 434, 'out for': 885, 'for your': 466, 'update mu': 1298, 'spotifycares problem': 1056, 'problem has': 933, 'has come': 527, 'come back': 336, 'back again': 222, 'today is': 1261, 'is there': 649, 'there some': 1192, 'some kind': 1030, 'kind of': 702, 'of bug': 842, '105847 thanks': 31, 'for giving': 454, 'giving us': 502, 'us nudge': 1311, 'nudge about': 835, 'about this': 89, 'this what': 1227, 'device operating': 372, 'operating system': 874, 'system and': 1089, 'spotify version': 1051, 'version is': 1340, 'on ay': 856, 'spotifycares it': 1054, 'it on': 672, 'on macbook': 860, 'macbook air': 757, 'air early': 110, 'early 2014': 412, '2014 running': 54, 'running high': 974, 'high sierra': 572, 'sierra spotify': 1006, 'version 65': 1337, '65 320': 67, '320 gac7a8e02': 62, '105847 got': 28, 'got it': 507, 'it can': 661, 'try the': 1280, 'the steps': 1174, 'steps here': 1067, 'for us': 464, 'us https': 1307, 'co eqisdmwzat': 320, 'eqisdmwzat they': 421, 'they should': 1200, 'should help': 1003, 'with this': 1408, 'this let': 1214, 'know how': 705, 'how it': 580, 'it plays': 673, 'plays out': 913, 'spotifycares ve': 1059, 'been having': 244, 'having issues': 541, 'issues with': 656, 'with playback': 1406, 'playback songs': 912, 'songs have': 1034, 'have been': 530, 'been stopping': 245, 'stopping midway': 1074, 'midway through': 775, 'through and': 1231, 'and won': 161, 'won restart': 1414, 'restart unless': 970, 'unless close': 1292, 'close and': 313, 'and reopen': 154, 'reopen app': 961, '105848 let': 32, 'let take': 721, 'take look': 1093, 'look what': 749, 'what is': 1377, 'is the': 648, 'the exact': 1142, 'exact ios': 427, 'ios you': 625, 'using are': 1324, 'you using': 1451, 'using any': 1322, 'any specific': 172, 'specific apps': 1048, 'apps when': 197, 'when noticing': 1383, 'noticing this': 829, 'this dm': 1207, 'us your': 1318, 'your reply': 1467, 'reply https': 963, 'applesupport latest': 188, 'latest version': 713, 'version have': 1338, 'have read': 533, 'read the': 949, 'the help': 1145, 'help page': 550, 'page turned': 895, 'turned off': 1282, 'off virtually': 848, 'virtually all': 1349, 'all apps': 113, 'apps and': 193, 'and location': 148, 'location svs': 741, 'svs too': 1087, 'too but': 1267, 'but in': 266, 'in typing': 612, 'typing this': 1285, 'this dropped': 1208, 'dropped life': 411, 'applesupport super': 191, 'super help': 1083, 'help problem': 552, 'problem solved': 934, 'solved once': 1026, 'once again': 866, 'again in': 103, 'in love': 606, 'love with': 756, 'with apple': 1401, 'applesupport ios11update': 187, 'ios11update is': 627, 'is still': 647, 'still killing': 1071, 'killing my': 701, 'my battery': 799, 'battery within': 230, 'within 12': 1411, '12 hours': 50, 'hours phone': 579, 'is 10': 632, '10 months': 5, 'months old': 788, 'old it': 853, 'it disgrace': 662, 'disgrace used': 380, 'used to': 1321, 'to get': 1245, 'get days': 492, '105849 thanks': 33, 'took my': 1271, 'phone off': 909, 'off charge': 847, 'charge at': 308, 'at 20am': 213, '20am 03am': 56, '03am 60': 3, '60 battery': 66, 'battery remaining': 228, 'remaining 76099': 959, '76099 plz': 71, 'plz beg': 921, 'beg you': 247, 'you sort': 1446, 'sort your': 1039, 'your battery': 1457, 'life out': 725, '105850 once': 34, 'once the': 867, 'the points': 1167, 'points load': 924, 'load and': 739, 'and you': 163, 'you hit': 1438, 'hit the': 574, 'number you': 838, 'get it': 495, 'it immediately': 669, 'immediately you': 602, 'you ll': 1440, 'll even': 734, 'even receive': 423, 'receive congrats': 953, 'congrats email': 342, 'email are': 414, 'you almost': 1425, 'almost there': 119, 'there ac': 1185, 'southwestair am': 1041, 'am thank': 126, 'thank you': 1113, 'you for': 1435, 'the answer': 1132, 'southwestair just': 1042, 'just curious': 689, 'curious will': 353, 'will get': 1395, 'get the': 498, 'the companion': 1139, 'companion pass': 339, 'pass the': 899, 'exact moment': 428, 'moment get': 786, 'get enough': 493, 'enough points': 420, 'points it': 923, 'it will': 682, 'will have': 1396, 'to wait': 1260, 'wait thanks': 1351, '105851 we': 35, 'provide some': 939, 'some assistance': 1027, 'assistance with': 212, 'this tell': 1222, 'tell us': 1100, 'more about': 789, 'the issue': 1147, 'issue you': 654, 're experiencing': 942, 'experiencing in': 432, 'dm we': 391, 'applesupport need': 190, 'need new': 812, 'new code': 815, 'code for': 332, 'for my': 459, 'my store': 806, 'store haven': 1076, 'haven recd': 539, 'recd any': 952, 'any but': 169, 'but msg': 268, 'msg is': 794, 'too many': 1268, 'many sent': 761, 'sent help': 990, '105852 are': 36, 'you experiencing': 1434, 'experiencing an': 431, 'an issue': 135, 'issue with': 653, 'device if': 369, 'so dm': 1020, 'us with': 1317, 'with what': 1409, 'what going': 1375, 'going on': 505, 'on we': 863, 'll see': 737, 'see how': 983, 'how we': 581, 'help from': 546, '76099 applesupport': 69, 'applesupport fix': 184, 'fix this': 446, 'update it': 1297, 'it horrible': 668, '105842 appreciate': 20, 'appreciate it': 192, 'it after': 658, 'after 15': 99, '30 now': 61, 'now so': 834, 'so hopefully': 1021, 'hopefully you': 577, 'you will': 1453, 'will depart': 1394, 'depart very': 365, 'very soon': 1344, 'soon we': 1035, 'sorry for': 1036, 'for any': 451, 'any inconvenience': 170, 'inconvenience the': 615, 'the delay': 1140, 'delay has': 358, 'has caused': 526, 'caused jr': 304, 'british_airways thanks': 258, 'your answer': 1456, 'answer response': 168, 'response onsite': 969, 'onsite was': 872, 'was that': 1354, 'that aircraft': 1119, 'aircraft will': 111, 'will not': 1399, 'not depart': 823, 'depart today': 364, 'today so': 1262, 'so rebooking': 1022, 'rebooking to': 951, 'to 105853': 1238, '105853 with': 37, 'with now': 1405, 'now 4h': 831, '4h delay': 65, '105842 very': 21, 'very sorry': 1345, 'sorry to': 1037, 'hear this': 544, 'this we': 1226, 'we hope': 1360, 'get everything': 494, 'everything sorted': 425, 'sorted kind': 1040, 'kind regards': 703, 'regards jools': 957, '105854 am': 38, 'am sorry': 124, 'the poor': 1168, 'poor experience': 926, 'experience can': 429, 'dm the': 389, 'the full': 1143, 'full service': 485, 'service address': 992, 'address and': 95, 'and name': 150, 'name on': 810, 'the account': 1130, 'account as': 91, 'as we': 206, 'we ass': 1356, 'ass https': 210, 'co jezhqgdbmd': 324, 'ask_spectrum it': 209, 'it just': 670, 'just in': 692, 'in my': 609, 'my yard': 807, 'yard ve': 1421, 've called': 1330, 'called times': 283, 'in weeks': 613, 'weeks not': 1371, 'not customer': 822, 'customer but': 354, 'but it': 267, 'it pretty': 674, 'pretty tempting': 930, 'tempting do': 1102, 'do have': 394, 'have some': 534, 'some coaxial': 1028, '76501 guess': 77, 'guess this': 515, 'this means': 1217, 'means free': 768, 'free cable': 468, 'cable for': 276, 'the neighborhood': 1159, 'neighborhood https': 813, 'co fbgee9yxpm': 321, '105855 hi': 39, 'hi thomas': 571, 'thomas if': 1228, 'if colleague': 591, 'colleague believes': 333, 'believes the': 250, 'the person': 1165, 'person buying': 902, 'buying alcohol': 272, 'alcohol looks': 112, 'looks under': 750, 'under 25': 1287, '25 they': 60, 'they will': 1201, 'will be': 1393, 'be challenged': 231, 'challenged for': 306, 'for id': 455, 'id to': 589, 'to prove': 1252, 'prove they': 938, 'they re': 1198, 're of': 944, 'of age': 840, 'age paige': 106, 'tesco maybe': 1106, 'maybe hire': 763, 'hire colleagues': 573, 'colleagues who': 335, 'who can': 1390, 'can see': 296, 'tesco the': 1107, 'the point': 1166, 'point is': 922, 'is if': 641, 'it enforced': 665, 'enforced they': 419, 'they do': 1196, 'do it': 395, 'it properly': 675, 'properly or': 936, 'or they': 880, 'they don': 1197, 'don plus': 405, 'plus take': 920, 'take some': 1094, 'some common': 1029, 'common sense': 338, 'sense and': 989, 'and think': 158, 'think does': 1205, 'does that': 399, 'that person': 1124, 'person look': 903, 'look over': 748, 'over 18': 891, 'thomas this': 1229, 'is correct': 637, 'correct but': 348, 'but this': 270, 'this helps': 1212, 'helps our': 560, 'our store': 882, 'store colleagues': 1075, 'colleagues judge': 334, 'judge age': 687, 'age and': 105, 'and protect': 152, 'protect them': 937, 'them from': 1183, 'from making': 475, 'making underage': 760, 'underage sales': 1289, 'sales amanda': 977, 'tesco uk': 1108, 'uk offlicense': 1286, 'offlicense law': 849, 'law is': 714, 'is 18': 634, '18 not': 52, 'not 25': 821, 'thomas we': 1230, 'we operate': 1364, 'operate think': 873, 'think 25': 1204, '25 policy': 59, 'policy at': 925, 'at our': 214, 'our stores': 883, 'stores be': 1079, 'be flattered': 234, 'flattered to': 447, 'be id': 237, 'id helena': 587, 'got id': 506, 'id tesco': 588, 'tesco for': 1105, 'for buying': 452, 'buying one': 273, 'one adnams': 869, 'adnams broadside': 96, 'broadside is': 259, 'is being': 635, 'being blind': 249, 'blind part': 252, 'part of': 897, 'the job': 1149, 'job spec': 685, 'spec am': 1047, 'am 35': 122, '35 and': 63, 'and 99': 138, '99 kilos': 83, '105856 hi': 41, 'there could': 1189, 'could you': 351, 'try deleting': 1279, 'deleting your': 361, 'your cache': 1459, 'cache and': 278, 'and cookies': 142, 'cookies and': 345, 'and reinstalling': 153, 'reinstalling the': 958, 'the app': 1133, 'app if': 176, 'if using': 598, 'using it': 1325, 'it this': 680, 'this should': 1218, 'should fix': 1002, 'fix the': 445, 'issue dani': 652, 'tesco will': 1109, 'will lose': 1398, 'lose all': 751, 'all the': 117, 'the shopping': 1171, 'shopping ve': 999, 've done': 1332, 'done if': 407, 'if delete': 592, 'delete the': 360, 'the cache': 1137, 'cache cookies': 279, 'cookies not': 346, 'not using': 828, 'using app': 1323, 'there as': 1188, 'as long': 205, 'long as': 745, 'as you': 207, 'you sign': 1445, 'sign out': 1007, 'out of': 888, 'of your': 846, 'account prior': 93, 'prior to': 932, 'to deleting': 1244, 'cache amp': 277, 'amp cookies': 130, 'cookies you': 347, 'll still': 738, 'still have': 1069, 'have full': 531, 'full basket': 483, 'basket thanks': 226, 'thanks mike': 1116, 'tesco done': 1104, 'done all': 406, 'all that': 116, 'that still': 1126, 'still telling': 1072, 'telling me': 1101, 'me there': 765, 'there are': 1187, 'are no': 201, 'no delivery': 819, 'delivery slots': 363, 'slots whatsoever': 1015, '105856 can': 40, 'dm me': 387, 'me your': 767, 'your full': 1463, 'full name': 484, 'name address': 808, 'and email': 144, 'email be': 415, 'to look': 1250, 'this further': 1210, 'further for': 487, 'you thanks': 1447, 'hey tesco': 566, 'tesco your': 1110, 'your website': 1469, 'website broken': 1366, 'broken it': 260, 'it telling': 678, 'slots for': 1014, 'the next': 1161, 'next weeks': 817, 'weeks which': 1372, 'which find': 1387, 'find slightly': 437, 'slightly unlikely': 1013, '105857 is': 42, 'there particular': 1191, 'particular app': 898, 'app that': 177, 'that seems': 1125, 'to cause': 1243, 'cause these': 303, 'these issues': 1195, 'issues more': 655, 'more than': 791, 'than others': 1112, 'others what': 881, 'what model': 1378, 'model iphone': 784, 'iphone are': 629, 'using join': 1326, 'join us': 686, 'us in': 1308, 'applesupport have': 185, 'version ios': 1339, 'ios it': 622, 'it started': 677, 'started immediately': 1065, 'immediately after': 601, 'after updated': 101, '105857 we': 43, 'help if': 549, 'if we': 599, 'can when': 299, 'when did': 1382, 'did this': 374, 'this start': 1221, 'start happening': 1063, 'happening which': 519, 'you running': 1444, 'running currently': 973, 'my apps': 798, 'apps stop': 196, 'stop working': 1073, 'working without': 1418, 'without warning': 1412, 'warning and': 1352, 'and my': 149, 'phone freezes': 906, 'freezes every': 469, 'every five': 424, 'five minutes': 443, 'minutes love': 778, 'love the': 754, 'new update': 816, '105858 hi': 44, 'hi agoura': 567, 'agoura thanks': 109, 'for tweeting': 463, 'tweeting please': 1283, 'please refer': 918, 'refer to': 955, 'to this': 1257, 'this article': 1206, 'article https': 204, 'co bssgjzartc': 319, 'bssgjzartc amp': 264, 'amp click': 129, 'click the': 312, 'the link': 1154, 'link to': 729, 'to reply': 1254, 'reply back': 962, 'back rashmi': 225, 'rashmi https': 941, 'co a2xkfcrug1': 317, 'hpsupport problem': 584, 'problem with': 935, 'with printhead': 1407, 'printhead serial': 931, 'serial th536d1hn': 991, 'th536d1hn hpcswus': 1111, 'hpcswus hpprnt': 583, '105859 ups': 45, 'ups has': 1302, 'has service': 528, 'service called': 993, 'called my': 282, 'my choice': 800, 'choice that': 311, 'that will': 1128, 'will allow': 1392, 'allow your': 118, 'your packages': 1466, 'packages to': 894, 'be delivered': 232, 'delivered to': 362, 'to ups': 1258, 'ups store': 1303, 'store ml': 1077, 'ml https': 782, 'co bpzkndqww1': 318, 'bpzkndqww1 https': 255, 'co wkjhdxwgrq': 328, '105860 wish': 46, 'wish amazon': 1400, 'amazon had': 127, 'had an': 516, 'an option': 137, 'option of': 876, 'of where': 845, 'where can': 1386, 'can just': 293, 'just get': 690, 'it shipped': 676, 'shipped to': 997, 'to the': 1256, 'the ups': 1181, 'store so': 1078, 'can avoid': 288, 'avoid lot': 218, 'lot of': 752, 'the struggle': 1175, 'they reschedule': 1199, 'reschedule my': 967, 'my shit': 805, 'shit for': 998, 'for tomorrow': 462, 'tomorrow https': 1265, 'co rsvzct982t': 326, '105861 hey': 47, 'hey sara': 565, 'sara sorry': 981, 'hear of': 543, 'the issues': 1148, 'issues you': 657, 'you are': 1427, 'are having': 200, 'having can': 540, 'can ask': 287, 'ask if': 208, 'it the': 679, 'the lay': 1152, 'lay out': 715, 'out or': 889, 'or just': 878, 'just the': 695, 'the speed': 1173, 'speed of': 1049, 'the website': 1182, 'website responding': 1367, 'responding ty': 968, 'ty chris': 1284, 'tesco bit': 1103, 'bit of': 251, 'of both': 841, 'both finding': 254, 'finding the': 440, 'the layout': 1153, 'layout cumbersome': 716, 'cumbersome and': 352, 'and when': 160, 'when removing': 1384, 'removing an': 960, 'an item': 136, 'item from': 684, 'from faves': 473, 'faves getting': 435, 'getting huge': 500, 'huge slowdown': 586, 'slowdown not': 1017, 'not keen': 825, 'keen on': 697, 'the thin': 1178, 'thin green': 1202, 'green line': 510, 'line https': 727, 'co 9281okeebk': 316, '105861 if': 48, 'if that': 596, 'that doesn': 1121, 'doesn help': 402, 'email including': 416, 'including the': 614, 'the browser': 1136, 'browser and': 262, 'and device': 143, 'device so': 373, 'can log': 294, 'log this': 742, 'this thanks': 1223, 'thanks lee': 1115}\n",
      "\n",
      "\n",
      "List of Ngram (bigram) encodings\n",
      " [[0 0 0 ... 0 0 0]\n",
      " [0 0 0 ... 0 0 1]\n",
      " [0 0 0 ... 0 0 0]\n",
      " ...\n",
      " [0 0 0 ... 0 0 0]\n",
      " [0 0 0 ... 0 0 0]\n",
      " [0 0 0 ... 0 0 0]]\n"
     ]
    }
   ],
   "source": [
    "result=hlpr.encode2_bigram(df['text'])\n",
    "print('===== USING BIGRAMS ENCODING ====')\n",
    "print('List of vocabularies:\\n',result[0])\n",
    "print('\\n\\nList of Ngram (bigram) encodings\\n',result[1])"
   ]
  },
  {
   "cell_type": "code",
   "execution_count": 9,
   "id": "b3a47cad-858c-47f0-92e5-0c528eecc213",
   "metadata": {},
   "outputs": [
    {
     "name": "stdout",
     "output_type": "stream",
     "text": [
      "===== USING TD-IDF ENCODING ====\n",
      "List of vocabularies:\n",
      " ['031' '03331' '03am' '0m2mph15eh' '10' '105676' '105835' '105836'\n",
      " '105837' '105838' '105839' '105840' '105841' '105842' '105843' '105844'\n",
      " '105845' '105846' '105847' '105848' '105849' '105850' '105851' '105852'\n",
      " '105853' '105854' '105855' '105856' '105857' '105858' '105859' '105860'\n",
      " '105861' '11' '12' '15' '18' '1h' '2014' '2016' '20am' '22' '24' '25'\n",
      " '30' '320' '35' '40' '4h' '5pyldjbc6r' '60' '65' '72' '76099' '76328'\n",
      " '76495' '76501' '76803' '77245' '7plus' '82476' '857' '91226'\n",
      " '9281okeebk' '99' 'a2xkfcrug1' 'about' 'ac' 'account' 'ad' 'additional'\n",
      " 'address' 'adnams' 'advise' 'affect' 'after' 'again' 'age' 'ages' 'ago'\n",
      " 'agoura' 'air' 'aircraft' 'alcohol' 'all' 'allow' 'almost' 'also'\n",
      " 'always' 'am' 'amanda' 'amazon' 'amp' 'an' 'and' 'android' 'anker'\n",
      " 'another' 'answer' 'any' 'anything' 'app' 'apple' 'applesupport'\n",
      " 'appreciate' 'apps' 'are' 'armv7' 'article' 'as' 'ask' 'ask_spectrum'\n",
      " 'ass' 'assistance' 'at' 'attached' 'avoid' 'away' 'ay' 'ba8733' 'back'\n",
      " 'basket' 'battery' 'be' 'beatner' 'because' 'been' 'before' 'beg'\n",
      " 'behaviors' 'being' 'believes' 'bit' 'blind' 'bluetooth' 'both'\n",
      " 'bpzkndqww1' 'brilliant' 'british_airways' 'broadside' 'broken' 'browser'\n",
      " 'browsers' 'bssgjzartc' 'bug' 'business' 'but' 'buying' 'by' 'bye'\n",
      " 'cable' 'cache' 'call' 'called' 'calling' 'calls' 'can' 'cares' 'carry'\n",
      " 'cause' 'caused' 'causing' 'challenged' 'change' 'charge' 'chat' 'check'\n",
      " 'cheers' 'choice' 'chris' 'click' 'close' 'co' 'coaxial' 'code'\n",
      " 'colleague' 'colleagues' 'come' 'comes' 'common' 'companion' 'concern'\n",
      " 'congrats' 'constantly' 'contact' 'cookies' 'correct' 'could' 'cp'\n",
      " 'crash' 'crossed' 'cumbersome' 'curious' 'currently' 'customer' 'dani'\n",
      " 'day' 'days' 'dead' 'delay' 'delayed' 'delete' 'deleting' 'delivered'\n",
      " 'delivery' 'depart' 'departure' 'details' 'device' 'did' 'difference'\n",
      " 'different' 'directed' 'disconnects' 'disgrace' 'disregarded' 'distance'\n",
      " 'dm' 'do' 'does' 'doesn' 'don' 'done' 'down' 'drains' 'dropped' 'early'\n",
      " 'else' 'email' 'end' 'enforced' 'enough' 'eqisdmwzat' 'error' 'even'\n",
      " 'every' 'everything' 'exact' 'experience' 'experiencing' 'eye' 'faves'\n",
      " 'fbgee9yxpm' 'few' 'find' 'finding' 'fingers' 'first' 'five' 'fix'\n",
      " 'flattered' 'flight' 'follow' 'for' 'fra' 'free' 'freezes' 'frequently'\n",
      " 'from' 'frustrated' 'frustrating' 'fucking' 'full' 'further' 'gac7a8e02'\n",
      " 'galaxy' 'game' 'gdrqu22ypt' 'general' 'get' 'getting' 'give' 'giving'\n",
      " 'gltz4xhcex' 'go' 'going' 'got' 'great' 'green' 'grrrrrrrrrr' 'gt'\n",
      " 'guess' 'had' 'half' 'happening' 'happens' 'happy' 'harry' 'has' 'hate'\n",
      " 'have' 'haven' 'having' 'hear' 'heard' 'helena' 'help' 'helping' 'helps'\n",
      " 'here' 'hey' 'hi' 'high' 'hire' 'hit' 'hope' 'hopefully' 'horrible'\n",
      " 'hours' 'how' 'hp' 'hpcswus' 'hpprnt' 'hpsupport' 'https' 'huge' 'id'\n",
      " 'if' 'immediately' 'important' 'in' 'including' 'inconvenience' 'info'\n",
      " 'information' 'internet' 'into' 'ios' 'ios1102' 'ios11update' 'iphone'\n",
      " 'iphone6' 'is' 'issue' 'issues' 'it' 'item' 'jezhqgdbmd' 'job' 'join'\n",
      " 'jools' 'jr' 'judge' 'jump' 'just' 'keen' 'keep' 'keyboard' 'killing'\n",
      " 'kilos' 'kind' 'know' 'laptop' 'last' 'latest' 'law' 'lay' 'layout' 'lcy'\n",
      " 'leave' 'leaving' 'lee' 'let' 'life' 'like' 'line' 'link' 'listen' 'live'\n",
      " 'livechat' 'll' 'load' 'location' 'log' 'logging' 'long' 'look' 'looks'\n",
      " 'lose' 'lot' 'love' 'macbook' 'make' 'makes' 'making' 'many' 'matter'\n",
      " 'maybe' 'me' 'means' 'message' 'messed' 'metre' 'metres' 'midway' 'mike'\n",
      " 'min' 'minutes' 'miriam' 'ml' 'mm' 'mo' 'model' 'moment' 'months' 'more'\n",
      " 'most' 'moved' 'msg' 'mu' 'music' 'my' 'name' 'need' 'neighborhood' 'new'\n",
      " 'next' 'no' 'not' 'noticing' 'notification' 'now' 'nudge' 'number'\n",
      " 'nxvzjlyx1k' 'o2' 'of' 'off' 'offlicense' 'ok' 'okay' 'old' 'on' 'once'\n",
      " 'one' 'online' 'onsite' 'opened' 'operate' 'operating' 'option' 'or'\n",
      " 'others' 'our' 'out' 'over' 'packages' 'page' 'paige' 'painfulupdate'\n",
      " 'paralysed' 'part' 'particular' 'pass' 'past' 'pause' 'percent' 'person'\n",
      " 'phone' 'playback' 'plays' 'please' 'plus' 'plz' 'point' 'points'\n",
      " 'policy' 'poor' 'possibly' 'posted' 'premium' 'pretty' 'printhead'\n",
      " 'prior' 'problem' 'properly' 'protect' 'prove' 'provide' 'rashmi' 're'\n",
      " 'reaching' 'read' 'really' 'rebooking' 'recd' 'receive' 'received'\n",
      " 'refer' 'refund' 'regards' 'reinstalling' 'remaining' 'removing' 'reopen'\n",
      " 'reply' 'request' 'reschedule' 'responding' 'response' 'restart'\n",
      " 'restarting' 'rr' 'rsvzct982t' 'running' 'runs' 'sales' 'sam' 'same'\n",
      " 'samsung' 'sara' 'see' 'seems' 'send' 'sending' 'sense' 'sent' 'serial'\n",
      " 'service' 'settings' 'several' 'shipped' 'shit' 'shopping' 'short'\n",
      " 'shortly' 'should' 'shout' 'sierra' 'sign' 'since' 'situation' 'skipping'\n",
      " 'slightly' 'slots' 'slow' 'slowdown' 'sm' 'so' 'solution' 'solved' 'some'\n",
      " 'someone' 'songs' 'soon' 'sorry' 'sort' 'sorted' 'southwestair' 'speaker'\n",
      " 'spec' 'specific' 'speed' 'spotify' 'spotifycares' 'sprint' 'stage'\n",
      " 'start' 'started' 'status' 'steps' 'still' 'stop' 'stopping' 'store'\n",
      " 'stores' 'struggle' 'sucks' 'suddenly' 'suffering' 'super' 'sure' 'sux'\n",
      " 'svs' 'sy94vtu8kq' 'system' 't280' 'tab' 'tablet' 'take' 'takes' 'talkin'\n",
      " 'tapped' 'team' 'telemarketer' 'tell' 'telling' 'tempting' 'tesco'\n",
      " 'th536d1hn' 'than' 'thank' 'thanks' 'that' 'the' 'them' 'then' 'there'\n",
      " 'these' 'they' 'thin' 'thing' 'think' 'this' 'thomas' 'through' 'time'\n",
      " 'times' 'to' 'today' 'together' 'tomorrow' 'too' 'took' 'travelling'\n",
      " 'tried' 'try' 'turned' 'tweeting' 'ty' 'typing' 'uk' 'under' 'underage'\n",
      " 'understand' 'unless' 'unlikely' 'up' 'update' 'updated' 'updates' 'ups'\n",
      " 'us' 'use' 'used' 'using' 've' 'version' 'versions' 'very' 'virgintrains'\n",
      " 'virtually' 'voicemail' 'wait' 'warning' 'was' 'we' 'website' 'week'\n",
      " 'weeks' 'welcome' 'what' 'whatsapp' 'whatsoever' 'when' 'where' 'which'\n",
      " 'who' 'wifi' 'will' 'wish' 'with' 'within' 'without' 'wkjhdxwgrq' 'won'\n",
      " 'work' 'working' 'wtf' 'wypw9hp6wt' 'xfinity' 'yard' 'yep' 'you' 'your'\n",
      " 'zip' 'znuu1vjn9r']\n",
      "\n",
      "\n",
      "List of TD-IDF encodings\n",
      " [[0.         0.         0.         ... 0.         0.         0.        ]\n",
      " [0.         0.         0.         ... 0.39769106 0.25237985 0.25237985]\n",
      " [0.         0.         0.         ... 0.         0.         0.        ]\n",
      " ...\n",
      " [0.         0.         0.         ... 0.         0.         0.        ]\n",
      " [0.         0.         0.         ... 0.         0.         0.        ]\n",
      " [0.         0.         0.         ... 0.1443437  0.         0.        ]]\n"
     ]
    }
   ],
   "source": [
    "result=hlpr.encode2_tdidf(df['text'])\n",
    "print('===== USING TD-IDF ENCODING ====')\n",
    "print('List of vocabularies:\\n',result[0])\n",
    "print('\\n\\nList of TD-IDF encodings\\n',result[1])"
   ]
  },
  {
   "cell_type": "code",
   "execution_count": 10,
   "id": "13642701-9f93-4fa6-b349-d96f8558b721",
   "metadata": {},
   "outputs": [
    {
     "name": "stdout",
     "output_type": "stream",
     "text": [
      "End of run...  2024-02-08 12:03:40\n"
     ]
    }
   ],
   "source": [
    "print(\"End of run... \",hlpr.show_time())"
   ]
  },
  {
   "cell_type": "markdown",
   "id": "91c5a463-5d65-4bee-858b-a4c980e6666f",
   "metadata": {},
   "source": [
    "Write 5 advantages and disadvantages of each text encoding style : \n",
    "1. One Hot Encoding\n",
    "2. Bag of Words\n",
    "3. Ngrams\n",
    "4. Term Frequency-Inverse Document Frequency\n",
    "\n",
    "Per Chapgpt and I have understood these points.  Here are the answers:\n",
    "\n",
    "One Hot Encoding:\n",
    "\n",
    "Advantages:\n",
    "Simple and straightforward to understand and implement.\n",
    "Preserves the unique categorical information without assuming any ordinal relationship.\n",
    "Compatible with most machine learning algorithms.\n",
    "Can handle a variable number of categories without any modification.\n",
    "Helps prevent the model from assuming false relationships between categories.\n",
    "\n",
    "Disadvantages:\n",
    "Creates high-dimensional sparse vectors, which can be computationally expensive.\n",
    "Does not capture any relationship or similarity between categories.\n",
    "May lead to the curse of dimensionality, especially with large categorical variables.\n",
    "Unable to handle new categories not seen during training without retraining the model.\n",
    "Can be inefficient when dealing with large categorical feature spaces.\n",
    "\n",
    "Bag of Words (BoW):\n",
    "\n",
    "Advantages:\n",
    "Simple and efficient representation of text data.\n",
    "Preserves the frequency information of words in the text.\n",
    "Widely used and understood in natural language processing tasks.\n",
    "Easily interpretable and suitable for many machine learning algorithms.\n",
    "Can be extended to include n-grams to capture local context.\n",
    "\n",
    "Disadvantages:\n",
    "Ignores the order and structure of words in the text, leading to loss of sequential information.\n",
    "Treats all words equally, disregarding their importance or relevance.\n",
    "Vocabulary size can become large, leading to high-dimensional sparse representations.\n",
    "Unable to capture semantic meaning or context of words.\n",
    "Sensitive to noise, misspellings, and variations in word forms.\n",
    "\n",
    "N-grams:\n",
    "\n",
    "Advantages:\n",
    "Captures local context and word relationships within a certain window size.\n",
    "Provides more context than individual words, allowing for better understanding of meaning.\n",
    "Can capture partial phrase structures, improving performance in certain NLP tasks.\n",
    "Helps mitigate the loss of sequential information compared to simple Bag of Words representation.\n",
    "Flexible parameterization allows for adaptation to different language patterns and tasks.\n",
    "\n",
    "Disadvantages:\n",
    "Increases feature space and computational complexity with larger n-gram sizes.\n",
    "Highly dependent on the chosen value of n, which may require experimentation and tuning.\n",
    "Limited by the context window size, potentially missing out on broader context.\n",
    "May introduce noise or irrelevant information when using higher-order n-grams.\n",
    "Vulnerable to data sparsity issues, especially with larger n values and smaller datasets.\n",
    "\n",
    "TF-IDF (Term Frequency-Inverse Document Frequency):\n",
    "\n",
    "Advantages:\n",
    "Captures the importance of words in a document relative to their occurrence in other documents.\n",
    "Reduces the impact of common words (e.g., stopwords) that occur frequently across documents.\n",
    "Highlights discriminative words that are specific to certain documents or classes.\n",
    "Resilient to noisy or irrelevant terms that occur frequently in the corpus.\n",
    "Flexible weighting scheme that balances term frequency with document frequency.\n",
    "\n",
    "Disadvantages:\n",
    "Assumes independence between terms, ignoring semantic relationships and context.\n",
    "Limited in capturing syntactic or structural information within the text.\n",
    "Requires a representative corpus to compute accurate IDF scores, which might not always be available.\n",
    "Unable to handle out-of-vocabulary terms or new terms that are not present in the training corpus.\n",
    "Sensitivity to document length, potentially biasing longer documents towards higher scores.\n"
   ]
  }
 ],
 "metadata": {
  "kernelspec": {
   "display_name": "Python 3 (ipykernel)",
   "language": "python",
   "name": "python3"
  },
  "language_info": {
   "codemirror_mode": {
    "name": "ipython",
    "version": 3
   },
   "file_extension": ".py",
   "mimetype": "text/x-python",
   "name": "python",
   "nbconvert_exporter": "python",
   "pygments_lexer": "ipython3",
   "version": "3.10.13"
  }
 },
 "nbformat": 4,
 "nbformat_minor": 5
}
